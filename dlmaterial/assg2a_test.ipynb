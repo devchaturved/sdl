{
 "cells": [
  {
   "cell_type": "code",
   "execution_count": 47,
   "id": "03a48e03",
   "metadata": {},
   "outputs": [],
   "source": [
    "import pandas as pd\n",
    "import numpy as np\n",
    "from sklearn.model_selection import train_test_split\n",
    "from sklearn.preprocessing import StandardScaler,LabelEncoder\n",
    "from tensorflow.keras.models import Sequential\n",
    "from tensorflow.keras.layers import Dense\n",
    "from tensorflow.keras.utils import to_categorical\n",
    "from sklearn.metrics import confusion_matrix,classification_report"
   ]
  },
  {
   "cell_type": "code",
   "execution_count": 8,
   "id": "376f4ce6",
   "metadata": {},
   "outputs": [
    {
     "data": {
      "text/html": [
       "<div>\n",
       "<style scoped>\n",
       "    .dataframe tbody tr th:only-of-type {\n",
       "        vertical-align: middle;\n",
       "    }\n",
       "\n",
       "    .dataframe tbody tr th {\n",
       "        vertical-align: top;\n",
       "    }\n",
       "\n",
       "    .dataframe thead th {\n",
       "        text-align: right;\n",
       "    }\n",
       "</style>\n",
       "<table border=\"1\" class=\"dataframe\">\n",
       "  <thead>\n",
       "    <tr style=\"text-align: right;\">\n",
       "      <th></th>\n",
       "      <th>0</th>\n",
       "      <th>1</th>\n",
       "      <th>2</th>\n",
       "      <th>3</th>\n",
       "      <th>4</th>\n",
       "      <th>5</th>\n",
       "      <th>6</th>\n",
       "      <th>7</th>\n",
       "      <th>8</th>\n",
       "      <th>9</th>\n",
       "      <th>10</th>\n",
       "      <th>11</th>\n",
       "      <th>12</th>\n",
       "      <th>13</th>\n",
       "      <th>14</th>\n",
       "      <th>15</th>\n",
       "      <th>16</th>\n",
       "    </tr>\n",
       "  </thead>\n",
       "  <tbody>\n",
       "    <tr>\n",
       "      <th>0</th>\n",
       "      <td>T</td>\n",
       "      <td>2</td>\n",
       "      <td>8</td>\n",
       "      <td>3</td>\n",
       "      <td>5</td>\n",
       "      <td>1</td>\n",
       "      <td>8</td>\n",
       "      <td>13</td>\n",
       "      <td>0</td>\n",
       "      <td>6</td>\n",
       "      <td>6</td>\n",
       "      <td>10</td>\n",
       "      <td>8</td>\n",
       "      <td>0</td>\n",
       "      <td>8</td>\n",
       "      <td>0</td>\n",
       "      <td>8</td>\n",
       "    </tr>\n",
       "    <tr>\n",
       "      <th>1</th>\n",
       "      <td>I</td>\n",
       "      <td>5</td>\n",
       "      <td>12</td>\n",
       "      <td>3</td>\n",
       "      <td>7</td>\n",
       "      <td>2</td>\n",
       "      <td>10</td>\n",
       "      <td>5</td>\n",
       "      <td>5</td>\n",
       "      <td>4</td>\n",
       "      <td>13</td>\n",
       "      <td>3</td>\n",
       "      <td>9</td>\n",
       "      <td>2</td>\n",
       "      <td>8</td>\n",
       "      <td>4</td>\n",
       "      <td>10</td>\n",
       "    </tr>\n",
       "    <tr>\n",
       "      <th>2</th>\n",
       "      <td>D</td>\n",
       "      <td>4</td>\n",
       "      <td>11</td>\n",
       "      <td>6</td>\n",
       "      <td>8</td>\n",
       "      <td>6</td>\n",
       "      <td>10</td>\n",
       "      <td>6</td>\n",
       "      <td>2</td>\n",
       "      <td>6</td>\n",
       "      <td>10</td>\n",
       "      <td>3</td>\n",
       "      <td>7</td>\n",
       "      <td>3</td>\n",
       "      <td>7</td>\n",
       "      <td>3</td>\n",
       "      <td>9</td>\n",
       "    </tr>\n",
       "    <tr>\n",
       "      <th>3</th>\n",
       "      <td>N</td>\n",
       "      <td>7</td>\n",
       "      <td>11</td>\n",
       "      <td>6</td>\n",
       "      <td>6</td>\n",
       "      <td>3</td>\n",
       "      <td>5</td>\n",
       "      <td>9</td>\n",
       "      <td>4</td>\n",
       "      <td>6</td>\n",
       "      <td>4</td>\n",
       "      <td>4</td>\n",
       "      <td>10</td>\n",
       "      <td>6</td>\n",
       "      <td>10</td>\n",
       "      <td>2</td>\n",
       "      <td>8</td>\n",
       "    </tr>\n",
       "    <tr>\n",
       "      <th>4</th>\n",
       "      <td>G</td>\n",
       "      <td>2</td>\n",
       "      <td>1</td>\n",
       "      <td>3</td>\n",
       "      <td>1</td>\n",
       "      <td>1</td>\n",
       "      <td>8</td>\n",
       "      <td>6</td>\n",
       "      <td>6</td>\n",
       "      <td>6</td>\n",
       "      <td>6</td>\n",
       "      <td>5</td>\n",
       "      <td>9</td>\n",
       "      <td>1</td>\n",
       "      <td>7</td>\n",
       "      <td>5</td>\n",
       "      <td>10</td>\n",
       "    </tr>\n",
       "    <tr>\n",
       "      <th>5</th>\n",
       "      <td>S</td>\n",
       "      <td>4</td>\n",
       "      <td>11</td>\n",
       "      <td>5</td>\n",
       "      <td>8</td>\n",
       "      <td>3</td>\n",
       "      <td>8</td>\n",
       "      <td>8</td>\n",
       "      <td>6</td>\n",
       "      <td>9</td>\n",
       "      <td>5</td>\n",
       "      <td>6</td>\n",
       "      <td>6</td>\n",
       "      <td>0</td>\n",
       "      <td>8</td>\n",
       "      <td>9</td>\n",
       "      <td>7</td>\n",
       "    </tr>\n",
       "    <tr>\n",
       "      <th>6</th>\n",
       "      <td>B</td>\n",
       "      <td>4</td>\n",
       "      <td>2</td>\n",
       "      <td>5</td>\n",
       "      <td>4</td>\n",
       "      <td>4</td>\n",
       "      <td>8</td>\n",
       "      <td>7</td>\n",
       "      <td>6</td>\n",
       "      <td>6</td>\n",
       "      <td>7</td>\n",
       "      <td>6</td>\n",
       "      <td>6</td>\n",
       "      <td>2</td>\n",
       "      <td>8</td>\n",
       "      <td>7</td>\n",
       "      <td>10</td>\n",
       "    </tr>\n",
       "    <tr>\n",
       "      <th>7</th>\n",
       "      <td>A</td>\n",
       "      <td>1</td>\n",
       "      <td>1</td>\n",
       "      <td>3</td>\n",
       "      <td>2</td>\n",
       "      <td>1</td>\n",
       "      <td>8</td>\n",
       "      <td>2</td>\n",
       "      <td>2</td>\n",
       "      <td>2</td>\n",
       "      <td>8</td>\n",
       "      <td>2</td>\n",
       "      <td>8</td>\n",
       "      <td>1</td>\n",
       "      <td>6</td>\n",
       "      <td>2</td>\n",
       "      <td>7</td>\n",
       "    </tr>\n",
       "    <tr>\n",
       "      <th>8</th>\n",
       "      <td>J</td>\n",
       "      <td>2</td>\n",
       "      <td>2</td>\n",
       "      <td>4</td>\n",
       "      <td>4</td>\n",
       "      <td>2</td>\n",
       "      <td>10</td>\n",
       "      <td>6</td>\n",
       "      <td>2</td>\n",
       "      <td>6</td>\n",
       "      <td>12</td>\n",
       "      <td>4</td>\n",
       "      <td>8</td>\n",
       "      <td>1</td>\n",
       "      <td>6</td>\n",
       "      <td>1</td>\n",
       "      <td>7</td>\n",
       "    </tr>\n",
       "    <tr>\n",
       "      <th>9</th>\n",
       "      <td>M</td>\n",
       "      <td>11</td>\n",
       "      <td>15</td>\n",
       "      <td>13</td>\n",
       "      <td>9</td>\n",
       "      <td>7</td>\n",
       "      <td>13</td>\n",
       "      <td>2</td>\n",
       "      <td>6</td>\n",
       "      <td>2</td>\n",
       "      <td>12</td>\n",
       "      <td>1</td>\n",
       "      <td>9</td>\n",
       "      <td>8</td>\n",
       "      <td>1</td>\n",
       "      <td>1</td>\n",
       "      <td>8</td>\n",
       "    </tr>\n",
       "  </tbody>\n",
       "</table>\n",
       "</div>"
      ],
      "text/plain": [
       "  0   1   2   3   4   5   6   7   8   9   10  11  12  13  14  15  16\n",
       "0  T   2   8   3   5   1   8  13   0   6   6  10   8   0   8   0   8\n",
       "1  I   5  12   3   7   2  10   5   5   4  13   3   9   2   8   4  10\n",
       "2  D   4  11   6   8   6  10   6   2   6  10   3   7   3   7   3   9\n",
       "3  N   7  11   6   6   3   5   9   4   6   4   4  10   6  10   2   8\n",
       "4  G   2   1   3   1   1   8   6   6   6   6   5   9   1   7   5  10\n",
       "5  S   4  11   5   8   3   8   8   6   9   5   6   6   0   8   9   7\n",
       "6  B   4   2   5   4   4   8   7   6   6   7   6   6   2   8   7  10\n",
       "7  A   1   1   3   2   1   8   2   2   2   8   2   8   1   6   2   7\n",
       "8  J   2   2   4   4   2  10   6   2   6  12   4   8   1   6   1   7\n",
       "9  M  11  15  13   9   7  13   2   6   2  12   1   9   8   1   1   8"
      ]
     },
     "execution_count": 8,
     "metadata": {},
     "output_type": "execute_result"
    }
   ],
   "source": [
    "df = pd.read_csv(\"LRC.data\",header = None)\n",
    "df.head(10)"
   ]
  },
  {
   "cell_type": "code",
   "execution_count": 11,
   "id": "cca264b2",
   "metadata": {},
   "outputs": [],
   "source": [
    "x = df.drop(columns = 0)\n",
    "y = df[0]"
   ]
  },
  {
   "cell_type": "code",
   "execution_count": 12,
   "id": "db0e3ed0",
   "metadata": {},
   "outputs": [
    {
     "data": {
      "text/plain": [
       "(       1   2   3   4   5   6   7   8   9   10  11  12  13  14  15  16\n",
       " 0       2   8   3   5   1   8  13   0   6   6  10   8   0   8   0   8\n",
       " 1       5  12   3   7   2  10   5   5   4  13   3   9   2   8   4  10\n",
       " 2       4  11   6   8   6  10   6   2   6  10   3   7   3   7   3   9\n",
       " 3       7  11   6   6   3   5   9   4   6   4   4  10   6  10   2   8\n",
       " 4       2   1   3   1   1   8   6   6   6   6   5   9   1   7   5  10\n",
       " ...    ..  ..  ..  ..  ..  ..  ..  ..  ..  ..  ..  ..  ..  ..  ..  ..\n",
       " 19995   2   2   3   3   2   7   7   7   6   6   6   4   2   8   3   7\n",
       " 19996   7  10   8   8   4   4   8   6   9  12   9  13   2   9   3   7\n",
       " 19997   6   9   6   7   5   6  11   3   7  11   9   5   2  12   2   4\n",
       " 19998   2   3   4   2   1   8   7   2   6  10   6   8   1   9   5   8\n",
       " 19999   4   9   6   6   2   9   5   3   1   8   1   8   2   7   2   8\n",
       " \n",
       " [20000 rows x 16 columns],\n",
       " 0        T\n",
       " 1        I\n",
       " 2        D\n",
       " 3        N\n",
       " 4        G\n",
       "         ..\n",
       " 19995    D\n",
       " 19996    C\n",
       " 19997    T\n",
       " 19998    S\n",
       " 19999    A\n",
       " Name: 0, Length: 20000, dtype: object)"
      ]
     },
     "execution_count": 12,
     "metadata": {},
     "output_type": "execute_result"
    }
   ],
   "source": [
    "x,y"
   ]
  },
  {
   "cell_type": "code",
   "execution_count": 13,
   "id": "a1c5dbb4",
   "metadata": {},
   "outputs": [],
   "source": [
    "le = LabelEncoder()\n",
    "y_encode = le.fit_transform(y)\n",
    "y_onehot = to_categorical(y_encode)"
   ]
  },
  {
   "cell_type": "code",
   "execution_count": 41,
   "id": "57688fce",
   "metadata": {},
   "outputs": [
    {
     "data": {
      "text/plain": [
       "array([19, 13, 15, ...,  8, 25,  2], dtype=int64)"
      ]
     },
     "execution_count": 41,
     "metadata": {},
     "output_type": "execute_result"
    }
   ],
   "source": [
    "xtrain,xtest,ytrain,ytest = train_test_split(x,y_onehot,test_size = 0.2,random_state = 123)\n",
    "y_test_lable = np.argmax(ytest,axis=1)\n",
    "y_test_lable "
   ]
  },
  {
   "cell_type": "code",
   "execution_count": 16,
   "id": "f6f6c8b7",
   "metadata": {},
   "outputs": [],
   "source": [
    "se = StandardScaler()\n",
    "xtrain = se.fit_transform(xtrain)\n",
    "xtest = se.transform(xtest)"
   ]
  },
  {
   "cell_type": "code",
   "execution_count": 25,
   "id": "d9e0827b",
   "metadata": {},
   "outputs": [],
   "source": [
    "model = Sequential([\n",
    "    Dense(64,activation = \"relu\",input_shape = (16,)),\n",
    "    Dense(32,activation = \"relu\"),\n",
    "    Dense(26,activation = \"softmax\")\n",
    "])\n",
    "model.compile(optimizer = \"adam\" ,loss = \"categorical_crossentropy\" , metrics = ['accuracy'])"
   ]
  },
  {
   "cell_type": "code",
   "execution_count": 26,
   "id": "b37a493a",
   "metadata": {},
   "outputs": [
    {
     "name": "stdout",
     "output_type": "stream",
     "text": [
      "Epoch 1/11\n",
      "\u001b[1m400/400\u001b[0m \u001b[32m━━━━━━━━━━━━━━━━━━━━\u001b[0m\u001b[37m\u001b[0m \u001b[1m1s\u001b[0m 1ms/step - accuracy: 0.2836 - loss: 2.6337 - val_accuracy: 0.6647 - val_loss: 1.2278\n",
      "Epoch 2/11\n",
      "\u001b[1m400/400\u001b[0m \u001b[32m━━━━━━━━━━━━━━━━━━━━\u001b[0m\u001b[37m\u001b[0m \u001b[1m0s\u001b[0m 1ms/step - accuracy: 0.7064 - loss: 1.0693 - val_accuracy: 0.7528 - val_loss: 0.8739\n",
      "Epoch 3/11\n",
      "\u001b[1m400/400\u001b[0m \u001b[32m━━━━━━━━━━━━━━━━━━━━\u001b[0m\u001b[37m\u001b[0m \u001b[1m0s\u001b[0m 1ms/step - accuracy: 0.7906 - loss: 0.7758 - val_accuracy: 0.7925 - val_loss: 0.7119\n",
      "Epoch 4/11\n",
      "\u001b[1m400/400\u001b[0m \u001b[32m━━━━━━━━━━━━━━━━━━━━\u001b[0m\u001b[37m\u001b[0m \u001b[1m0s\u001b[0m 933us/step - accuracy: 0.8158 - loss: 0.6411 - val_accuracy: 0.8184 - val_loss: 0.6177\n",
      "Epoch 5/11\n",
      "\u001b[1m400/400\u001b[0m \u001b[32m━━━━━━━━━━━━━━━━━━━━\u001b[0m\u001b[37m\u001b[0m \u001b[1m0s\u001b[0m 912us/step - accuracy: 0.8378 - loss: 0.5580 - val_accuracy: 0.8381 - val_loss: 0.5516\n",
      "Epoch 6/11\n",
      "\u001b[1m400/400\u001b[0m \u001b[32m━━━━━━━━━━━━━━━━━━━━\u001b[0m\u001b[37m\u001b[0m \u001b[1m0s\u001b[0m 978us/step - accuracy: 0.8589 - loss: 0.4816 - val_accuracy: 0.8553 - val_loss: 0.4951\n",
      "Epoch 7/11\n",
      "\u001b[1m400/400\u001b[0m \u001b[32m━━━━━━━━━━━━━━━━━━━━\u001b[0m\u001b[37m\u001b[0m \u001b[1m0s\u001b[0m 953us/step - accuracy: 0.8630 - loss: 0.4539 - val_accuracy: 0.8650 - val_loss: 0.4541\n",
      "Epoch 8/11\n",
      "\u001b[1m400/400\u001b[0m \u001b[32m━━━━━━━━━━━━━━━━━━━━\u001b[0m\u001b[37m\u001b[0m \u001b[1m0s\u001b[0m 921us/step - accuracy: 0.8774 - loss: 0.4145 - val_accuracy: 0.8712 - val_loss: 0.4264\n",
      "Epoch 9/11\n",
      "\u001b[1m400/400\u001b[0m \u001b[32m━━━━━━━━━━━━━━━━━━━━\u001b[0m\u001b[37m\u001b[0m \u001b[1m0s\u001b[0m 1ms/step - accuracy: 0.8897 - loss: 0.3717 - val_accuracy: 0.8744 - val_loss: 0.4034\n",
      "Epoch 10/11\n",
      "\u001b[1m400/400\u001b[0m \u001b[32m━━━━━━━━━━━━━━━━━━━━\u001b[0m\u001b[37m\u001b[0m \u001b[1m0s\u001b[0m 975us/step - accuracy: 0.8966 - loss: 0.3520 - val_accuracy: 0.8844 - val_loss: 0.3695\n",
      "Epoch 11/11\n",
      "\u001b[1m400/400\u001b[0m \u001b[32m━━━━━━━━━━━━━━━━━━━━\u001b[0m\u001b[37m\u001b[0m \u001b[1m0s\u001b[0m 906us/step - accuracy: 0.9027 - loss: 0.3183 - val_accuracy: 0.8872 - val_loss: 0.3622\n"
     ]
    },
    {
     "data": {
      "text/plain": [
       "<keras.src.callbacks.history.History at 0x18d04722600>"
      ]
     },
     "execution_count": 26,
     "metadata": {},
     "output_type": "execute_result"
    }
   ],
   "source": [
    "model.fit(xtrain,ytrain,epochs = 11 , verbose = 1,validation_split = 0.2,batch_size = 32)"
   ]
  },
  {
   "cell_type": "code",
   "execution_count": 27,
   "id": "0afd1ec0",
   "metadata": {},
   "outputs": [
    {
     "name": "stdout",
     "output_type": "stream",
     "text": [
      "\u001b[1m125/125\u001b[0m \u001b[32m━━━━━━━━━━━━━━━━━━━━\u001b[0m\u001b[37m\u001b[0m \u001b[1m0s\u001b[0m 1ms/step - accuracy: 0.8790 - loss: 0.3698\n"
     ]
    },
    {
     "data": {
      "text/plain": [
       "(0.3705143630504608, 0.8799999952316284)"
      ]
     },
     "execution_count": 27,
     "metadata": {},
     "output_type": "execute_result"
    }
   ],
   "source": [
    "loss,acc = model.evaluate(xtest,ytest)\n",
    "loss,acc"
   ]
  },
  {
   "cell_type": "code",
   "execution_count": 43,
   "id": "341f5190",
   "metadata": {},
   "outputs": [
    {
     "name": "stdout",
     "output_type": "stream",
     "text": [
      "\u001b[1m125/125\u001b[0m \u001b[32m━━━━━━━━━━━━━━━━━━━━\u001b[0m\u001b[37m\u001b[0m \u001b[1m0s\u001b[0m 1ms/step\n"
     ]
    },
    {
     "data": {
      "text/plain": [
       "array([2, 2, 2, ..., 4, 4, 2], dtype=int64)"
      ]
     },
     "execution_count": 43,
     "metadata": {},
     "output_type": "execute_result"
    }
   ],
   "source": [
    "y_predict_prob = model.predict(xtest)\n",
    "y_pred_label = np.argmax(y_predict_prob,axis = 1)\n",
    "y_pred_label"
   ]
  },
  {
   "cell_type": "code",
   "execution_count": 44,
   "id": "ce9d5db7",
   "metadata": {},
   "outputs": [
    {
     "data": {
      "text/plain": [
       "array([[  0,   0,  80,   0,   7,   0,   0,   0,   0,   0,   0,   0,   0,\n",
       "          0,   0,   0,  87,   0,   0,   0,   0,   0,   0,   0,   0,   0],\n",
       "       [  0,   0, 106,   0,  24,   0,   0,   0,   0,   0,   0,   0,   0,\n",
       "          0,   0,   0,  10,   0,   0,   0,   0,   0,   0,   0,   0,   0],\n",
       "       [  0,   0, 161,   0,   0,   0,   0,   0,   0,   0,   0,   0,   0,\n",
       "          0,   0,   0,   1,   0,   0,   0,   0,   0,   0,   0,   0,   0],\n",
       "       [  0,   0, 149,   0,  21,   0,   0,   0,   0,   0,   0,   0,   0,\n",
       "          0,   0,   0,   2,   0,   0,   0,   0,   0,   0,   0,   0,   0],\n",
       "       [  0,   0, 125,   0,  11,   0,   0,   0,   0,   0,   0,   0,   0,\n",
       "          0,   0,   0,   8,   0,   0,   0,   0,   0,   0,   0,   0,   0],\n",
       "       [  0,   0, 128,   0,  18,   0,   0,   0,   0,   0,   0,   0,   0,\n",
       "          0,   0,   0,   3,   0,   0,   0,   0,   0,   0,   0,   0,   0],\n",
       "       [  0,   0, 136,   0,   1,   0,   0,   0,   0,   0,   0,   0,   0,\n",
       "          0,   0,   0,  24,   0,   0,   0,   0,   0,   0,   0,   0,   0],\n",
       "       [  0,   0, 119,   0,   1,   0,   0,   0,   0,   0,   0,   0,   0,\n",
       "          0,   1,   0,  15,   0,   0,   0,   0,   0,   0,   0,   0,   0],\n",
       "       [  0,   0, 142,   0,  34,   0,   0,   0,   0,   0,   0,   0,   0,\n",
       "          0,   0,   0,   3,   0,   0,   0,   0,   0,   0,   0,   0,   0],\n",
       "       [  0,   0, 112,   0,  24,   0,   0,   0,   0,   0,   0,   0,   0,\n",
       "          0,   0,   0,   8,   0,   0,   0,   0,   0,   0,   0,   0,   0],\n",
       "       [  0,   0, 130,   0,  14,   0,   0,   0,   0,   0,   0,   0,   0,\n",
       "          0,   0,   0,   9,   0,   0,   0,   0,   0,   0,   0,   0,   0],\n",
       "       [  0,   0, 128,   0,  15,   0,   0,   0,   0,   0,   0,   0,   0,\n",
       "          0,   0,   0,   2,   0,   0,   0,   0,   0,   0,   0,   0,   0],\n",
       "       [  0,   0, 130,   0,   3,   0,   0,   0,   0,   0,   0,   0,   0,\n",
       "          0,  17,   0,  18,   0,   0,   0,   0,   0,   0,   0,   0,   0],\n",
       "       [  0,   0, 147,   0,   1,   0,   0,   0,   0,   0,   0,   0,   0,\n",
       "          0,   0,   0,   1,   0,   0,   0,   0,   0,   0,   0,   0,   0],\n",
       "       [  0,   0, 137,   0,   0,   0,   0,   0,   0,   0,   0,   0,   0,\n",
       "          0,   0,   0,   7,   0,   0,   0,   0,   0,   0,   0,   0,   0],\n",
       "       [  0,   0, 126,   0,   1,   0,   0,   0,   0,   0,   0,   0,   0,\n",
       "          0,   0,   0,  22,   0,   0,   0,   0,   0,   0,   0,   0,   0],\n",
       "       [  0,   0,  79,   0,  10,   0,   0,   0,   0,   0,   0,   0,   0,\n",
       "          0,   0,   0,  69,   0,   0,   0,   0,   0,   0,   0,   0,   0],\n",
       "       [  0,   0, 132,   0,   5,   0,   0,   0,   0,   0,   0,   0,   0,\n",
       "          0,   0,   0,   4,   0,   0,   0,   0,   0,   0,   0,   0,   0],\n",
       "       [  0,   0, 101,   0,  32,   0,   0,   0,   0,   0,   0,   0,   0,\n",
       "          0,   0,   0,  22,   0,   0,   0,   0,   0,   0,   0,   0,   4],\n",
       "       [  0,   0, 173,   0,  11,   0,   0,   0,   0,   0,   0,   0,   0,\n",
       "          0,   0,   0,   0,   0,   0,   0,   0,   0,   0,   0,   0,   0],\n",
       "       [  0,   0, 139,   0,   0,   0,   0,   0,   0,   0,   0,   0,   0,\n",
       "          0,   0,   0,   3,   0,   0,   0,   0,   0,   0,   0,   0,   0],\n",
       "       [  0,   0, 132,   0,   2,   0,   0,   0,   0,   0,   0,   0,   0,\n",
       "          0,   0,   0,   3,   0,   0,   0,   0,   0,   0,   0,   0,   0],\n",
       "       [  0,   0, 117,   0,   0,   0,   0,   0,   0,   0,   0,   0,   0,\n",
       "          0,   0,   0,  45,   0,   0,   0,   0,   0,   0,   0,   0,   0],\n",
       "       [  0,   0, 111,   0,  28,   0,   0,   0,   0,   0,   0,   0,   0,\n",
       "          0,   0,   0,   8,   0,   0,   0,   0,   0,   0,   0,   0,   0],\n",
       "       [  0,   0, 129,   0,   3,   0,   0,   0,   0,   0,   0,   0,   0,\n",
       "          0,   0,   0,  31,   0,   0,   0,   0,   0,   0,   0,   0,   0],\n",
       "       [  0,   0,  15,   0, 104,   0,   0,   0,   0,   0,   0,   0,   0,\n",
       "          0,   0,   0,  19,   0,   0,   0,   0,   0,   0,   0,   0,   0]],\n",
       "      dtype=int64)"
      ]
     },
     "execution_count": 44,
     "metadata": {},
     "output_type": "execute_result"
    }
   ],
   "source": [
    "cm = confusion_matrix(y_test_lable,y_pred_label)\n",
    "cm"
   ]
  },
  {
   "cell_type": "code",
   "execution_count": 50,
   "id": "2399d4fb",
   "metadata": {},
   "outputs": [
    {
     "name": "stdout",
     "output_type": "stream",
     "text": [
      "              precision    recall  f1-score   support\n",
      "\n",
      "           0       0.00      0.00      0.00       174\n",
      "           1       0.00      0.00      0.00       140\n",
      "           2       0.05      0.99      0.10       162\n",
      "           3       0.00      0.00      0.00       172\n",
      "           4       0.03      0.08      0.04       144\n",
      "           5       0.00      0.00      0.00       149\n",
      "           6       0.00      0.00      0.00       161\n",
      "           7       0.00      0.00      0.00       136\n",
      "           8       0.00      0.00      0.00       179\n",
      "           9       0.00      0.00      0.00       144\n",
      "          10       0.00      0.00      0.00       153\n",
      "          11       0.00      0.00      0.00       145\n",
      "          12       0.00      0.00      0.00       168\n",
      "          13       0.00      0.00      0.00       149\n",
      "          14       0.00      0.00      0.00       144\n",
      "          15       0.00      0.00      0.00       149\n",
      "          16       0.16      0.44      0.24       158\n",
      "          17       0.00      0.00      0.00       141\n",
      "          18       0.00      0.00      0.00       159\n",
      "          19       0.00      0.00      0.00       184\n",
      "          20       0.00      0.00      0.00       142\n",
      "          21       0.00      0.00      0.00       137\n",
      "          22       0.00      0.00      0.00       162\n",
      "          23       0.00      0.00      0.00       147\n",
      "          24       0.00      0.00      0.00       163\n",
      "          25       0.00      0.00      0.00       138\n",
      "\n",
      "    accuracy                           0.06      4000\n",
      "   macro avg       0.01      0.06      0.01      4000\n",
      "weighted avg       0.01      0.06      0.01      4000\n",
      "\n"
     ]
    },
    {
     "name": "stderr",
     "output_type": "stream",
     "text": [
      "c:\\Users\\anime\\AppData\\Local\\Programs\\Python\\Python312\\Lib\\site-packages\\sklearn\\metrics\\_classification.py:1531: UndefinedMetricWarning: Precision is ill-defined and being set to 0.0 in labels with no predicted samples. Use `zero_division` parameter to control this behavior.\n",
      "  _warn_prf(average, modifier, f\"{metric.capitalize()} is\", len(result))\n",
      "c:\\Users\\anime\\AppData\\Local\\Programs\\Python\\Python312\\Lib\\site-packages\\sklearn\\metrics\\_classification.py:1531: UndefinedMetricWarning: Precision is ill-defined and being set to 0.0 in labels with no predicted samples. Use `zero_division` parameter to control this behavior.\n",
      "  _warn_prf(average, modifier, f\"{metric.capitalize()} is\", len(result))\n",
      "c:\\Users\\anime\\AppData\\Local\\Programs\\Python\\Python312\\Lib\\site-packages\\sklearn\\metrics\\_classification.py:1531: UndefinedMetricWarning: Precision is ill-defined and being set to 0.0 in labels with no predicted samples. Use `zero_division` parameter to control this behavior.\n",
      "  _warn_prf(average, modifier, f\"{metric.capitalize()} is\", len(result))\n"
     ]
    }
   ],
   "source": [
    "print(classification_report(y_test_lable,y_pred_label))"
   ]
  },
  {
   "cell_type": "code",
   "execution_count": null,
   "id": "d0fafb9a",
   "metadata": {},
   "outputs": [],
   "source": []
  }
 ],
 "metadata": {
  "kernelspec": {
   "display_name": "Python 3",
   "language": "python",
   "name": "python3"
  },
  "language_info": {
   "codemirror_mode": {
    "name": "ipython",
    "version": 3
   },
   "file_extension": ".py",
   "mimetype": "text/x-python",
   "name": "python",
   "nbconvert_exporter": "python",
   "pygments_lexer": "ipython3",
   "version": "3.12.0"
  }
 },
 "nbformat": 4,
 "nbformat_minor": 5
}
